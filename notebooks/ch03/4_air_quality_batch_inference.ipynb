{
 "cells": [
  {
   "cell_type": "markdown",
   "id": "46f5a305",
   "metadata": {},
   "source": [
    "# <span style=\"font-width:bold; font-size: 3rem; color:#1EB182;\"><img src=\"../images/icon102.png\" width=\"38px\"></img> **Hopsworks Feature Store** </span><span style=\"font-width:bold; font-size: 3rem; color:#333;\">- Part 04: Batch Inference</span>\n",
    "\n",
    "## 🗒️ This notebook is divided into the following sections:\n",
    "\n",
    "1. Download model and batch inference data\n",
    "2. Make predictions, generate PNG for forecast\n",
    "3. Store predictions in a monitoring feature group adn generate PNG for hindcast"
   ]
  },
  {
   "cell_type": "markdown",
   "id": "4519b7fd",
   "metadata": {},
   "source": [
    "## <span style='color:#ff5f27'> 📝 Imports"
   ]
  },
  {
   "cell_type": "code",
   "execution_count": 1,
   "id": "417420f4",
   "metadata": {},
   "outputs": [],
   "source": [
    "import datetime\n",
    "import pandas as pd\n",
    "from xgboost import XGBRegressor\n",
    "import hopsworks\n",
    "from functions import util"
   ]
  },
  {
   "cell_type": "code",
   "execution_count": 2,
   "id": "71367171",
   "metadata": {},
   "outputs": [],
   "source": [
    "# Getting the current date\n",
    "today = datetime.date.today()\n",
    "# start_day = today - datetime.timedelta(days = 100)\n",
    "country=\"sweden\"\n",
    "city=\"stockholm\"\n",
    "street=\"stockholm-hornsgatan-108-gata\""
   ]
  },
  {
   "cell_type": "markdown",
   "id": "8725f845",
   "metadata": {},
   "source": [
    "## <span style=\"color:#ff5f27;\"> 📡 Connecting to Hopsworks Feature Store </span>"
   ]
  },
  {
   "cell_type": "code",
   "execution_count": 3,
   "id": "7d40eb19",
   "metadata": {},
   "outputs": [
    {
     "name": "stdout",
     "output_type": "stream",
     "text": [
      "Connected. Call `.close()` to terminate connection gracefully.\n",
      "\n",
      "Logged in to project, explore it here https://snurran.hops.works/p/8321\n",
      "Connected. Call `.close()` to terminate connection gracefully.\n"
     ]
    }
   ],
   "source": [
    "project = hopsworks.login()\n",
    "fs = project.get_feature_store()"
   ]
  },
  {
   "cell_type": "markdown",
   "id": "4e51cb56",
   "metadata": {},
   "source": [
    "## <span style=\"color:#ff5f27;\"> ⚙️ Feature View Retrieval</span>\n"
   ]
  },
  {
   "cell_type": "code",
   "execution_count": 4,
   "id": "14936780",
   "metadata": {},
   "outputs": [],
   "source": [
    "# Retrieve the 'air_quality_fv' feature view\n",
    "feature_view = fs.get_feature_view(\n",
    "    name='air_quality_fv',\n",
    "    version=1,\n",
    ")"
   ]
  },
  {
   "cell_type": "markdown",
   "id": "56cb3bc2",
   "metadata": {},
   "source": [
    "## <span style=\"color:#ff5f27;\">🪝 Download the model from Model Registry</span>"
   ]
  },
  {
   "cell_type": "code",
   "execution_count": 5,
   "id": "128754a9",
   "metadata": {},
   "outputs": [
    {
     "name": "stdout",
     "output_type": "stream",
     "text": [
      "Connected. Call `.close()` to terminate connection gracefully.\n",
      "Downloading model artifact (1 dirs, 6 files)... DONE\r"
     ]
    }
   ],
   "source": [
    "mr = project.get_model_registry()\n",
    "\n",
    "retrieved_model = mr.get_model(\n",
    "    name=\"air_quality_xgboost_model\",\n",
    "    version=1,\n",
    ")\n",
    "\n",
    "# Download the saved model artifacts to a local directory\n",
    "saved_model_dir = retrieved_model.download()"
   ]
  },
  {
   "cell_type": "code",
   "execution_count": 6,
   "id": "b69458d2",
   "metadata": {},
   "outputs": [
    {
     "data": {
      "text/html": [
       "<style>#sk-container-id-1 {color: black;background-color: white;}#sk-container-id-1 pre{padding: 0;}#sk-container-id-1 div.sk-toggleable {background-color: white;}#sk-container-id-1 label.sk-toggleable__label {cursor: pointer;display: block;width: 100%;margin-bottom: 0;padding: 0.3em;box-sizing: border-box;text-align: center;}#sk-container-id-1 label.sk-toggleable__label-arrow:before {content: \"▸\";float: left;margin-right: 0.25em;color: #696969;}#sk-container-id-1 label.sk-toggleable__label-arrow:hover:before {color: black;}#sk-container-id-1 div.sk-estimator:hover label.sk-toggleable__label-arrow:before {color: black;}#sk-container-id-1 div.sk-toggleable__content {max-height: 0;max-width: 0;overflow: hidden;text-align: left;background-color: #f0f8ff;}#sk-container-id-1 div.sk-toggleable__content pre {margin: 0.2em;color: black;border-radius: 0.25em;background-color: #f0f8ff;}#sk-container-id-1 input.sk-toggleable__control:checked~div.sk-toggleable__content {max-height: 200px;max-width: 100%;overflow: auto;}#sk-container-id-1 input.sk-toggleable__control:checked~label.sk-toggleable__label-arrow:before {content: \"▾\";}#sk-container-id-1 div.sk-estimator input.sk-toggleable__control:checked~label.sk-toggleable__label {background-color: #d4ebff;}#sk-container-id-1 div.sk-label input.sk-toggleable__control:checked~label.sk-toggleable__label {background-color: #d4ebff;}#sk-container-id-1 input.sk-hidden--visually {border: 0;clip: rect(1px 1px 1px 1px);clip: rect(1px, 1px, 1px, 1px);height: 1px;margin: -1px;overflow: hidden;padding: 0;position: absolute;width: 1px;}#sk-container-id-1 div.sk-estimator {font-family: monospace;background-color: #f0f8ff;border: 1px dotted black;border-radius: 0.25em;box-sizing: border-box;margin-bottom: 0.5em;}#sk-container-id-1 div.sk-estimator:hover {background-color: #d4ebff;}#sk-container-id-1 div.sk-parallel-item::after {content: \"\";width: 100%;border-bottom: 1px solid gray;flex-grow: 1;}#sk-container-id-1 div.sk-label:hover label.sk-toggleable__label {background-color: #d4ebff;}#sk-container-id-1 div.sk-serial::before {content: \"\";position: absolute;border-left: 1px solid gray;box-sizing: border-box;top: 0;bottom: 0;left: 50%;z-index: 0;}#sk-container-id-1 div.sk-serial {display: flex;flex-direction: column;align-items: center;background-color: white;padding-right: 0.2em;padding-left: 0.2em;position: relative;}#sk-container-id-1 div.sk-item {position: relative;z-index: 1;}#sk-container-id-1 div.sk-parallel {display: flex;align-items: stretch;justify-content: center;background-color: white;position: relative;}#sk-container-id-1 div.sk-item::before, #sk-container-id-1 div.sk-parallel-item::before {content: \"\";position: absolute;border-left: 1px solid gray;box-sizing: border-box;top: 0;bottom: 0;left: 50%;z-index: -1;}#sk-container-id-1 div.sk-parallel-item {display: flex;flex-direction: column;z-index: 1;position: relative;background-color: white;}#sk-container-id-1 div.sk-parallel-item:first-child::after {align-self: flex-end;width: 50%;}#sk-container-id-1 div.sk-parallel-item:last-child::after {align-self: flex-start;width: 50%;}#sk-container-id-1 div.sk-parallel-item:only-child::after {width: 0;}#sk-container-id-1 div.sk-dashed-wrapped {border: 1px dashed gray;margin: 0 0.4em 0.5em 0.4em;box-sizing: border-box;padding-bottom: 0.4em;background-color: white;}#sk-container-id-1 div.sk-label label {font-family: monospace;font-weight: bold;display: inline-block;line-height: 1.2em;}#sk-container-id-1 div.sk-label-container {text-align: center;}#sk-container-id-1 div.sk-container {/* jupyter's `normalize.less` sets `[hidden] { display: none; }` but bootstrap.min.css set `[hidden] { display: none !important; }` so we also need the `!important` here to be able to override the default hidden behavior on the sphinx rendered scikit-learn.org. See: https://github.com/scikit-learn/scikit-learn/issues/21755 */display: inline-block !important;position: relative;}#sk-container-id-1 div.sk-text-repr-fallback {display: none;}</style><div id=\"sk-container-id-1\" class=\"sk-top-container\"><div class=\"sk-text-repr-fallback\"><pre>XGBRegressor(base_score=&#x27;2.5548958E1&#x27;, booster=&#x27;gbtree&#x27;, callbacks=None,\n",
       "             colsample_bylevel=None, colsample_bynode=None,\n",
       "             colsample_bytree=None, device=None, early_stopping_rounds=None,\n",
       "             enable_categorical=False, eval_metric=None,\n",
       "             feature_types=[&#x27;float&#x27;, &#x27;float&#x27;, &#x27;float&#x27;, &#x27;float&#x27;], gamma=None,\n",
       "             grow_policy=None, importance_type=None,\n",
       "             interaction_constraints=None, learning_rate=None, max_bin=None,\n",
       "             max_cat_threshold=None, max_cat_to_onehot=None,\n",
       "             max_delta_step=None, max_depth=None, max_leaves=None,\n",
       "             min_child_weight=None, missing=nan, monotone_constraints=None,\n",
       "             multi_strategy=None, n_estimators=None, n_jobs=None,\n",
       "             num_parallel_tree=None, random_state=None, ...)</pre><b>In a Jupyter environment, please rerun this cell to show the HTML representation or trust the notebook. <br />On GitHub, the HTML representation is unable to render, please try loading this page with nbviewer.org.</b></div><div class=\"sk-container\" hidden><div class=\"sk-item\"><div class=\"sk-estimator sk-toggleable\"><input class=\"sk-toggleable__control sk-hidden--visually\" id=\"sk-estimator-id-1\" type=\"checkbox\" checked><label for=\"sk-estimator-id-1\" class=\"sk-toggleable__label sk-toggleable__label-arrow\">XGBRegressor</label><div class=\"sk-toggleable__content\"><pre>XGBRegressor(base_score=&#x27;2.5548958E1&#x27;, booster=&#x27;gbtree&#x27;, callbacks=None,\n",
       "             colsample_bylevel=None, colsample_bynode=None,\n",
       "             colsample_bytree=None, device=None, early_stopping_rounds=None,\n",
       "             enable_categorical=False, eval_metric=None,\n",
       "             feature_types=[&#x27;float&#x27;, &#x27;float&#x27;, &#x27;float&#x27;, &#x27;float&#x27;], gamma=None,\n",
       "             grow_policy=None, importance_type=None,\n",
       "             interaction_constraints=None, learning_rate=None, max_bin=None,\n",
       "             max_cat_threshold=None, max_cat_to_onehot=None,\n",
       "             max_delta_step=None, max_depth=None, max_leaves=None,\n",
       "             min_child_weight=None, missing=nan, monotone_constraints=None,\n",
       "             multi_strategy=None, n_estimators=None, n_jobs=None,\n",
       "             num_parallel_tree=None, random_state=None, ...)</pre></div></div></div></div></div>"
      ],
      "text/plain": [
       "XGBRegressor(base_score='2.5548958E1', booster='gbtree', callbacks=None,\n",
       "             colsample_bylevel=None, colsample_bynode=None,\n",
       "             colsample_bytree=None, device=None, early_stopping_rounds=None,\n",
       "             enable_categorical=False, eval_metric=None,\n",
       "             feature_types=['float', 'float', 'float', 'float'], gamma=None,\n",
       "             grow_policy=None, importance_type=None,\n",
       "             interaction_constraints=None, learning_rate=None, max_bin=None,\n",
       "             max_cat_threshold=None, max_cat_to_onehot=None,\n",
       "             max_delta_step=None, max_depth=None, max_leaves=None,\n",
       "             min_child_weight=None, missing=nan, monotone_constraints=None,\n",
       "             multi_strategy=None, n_estimators=None, n_jobs=None,\n",
       "             num_parallel_tree=None, random_state=None, ...)"
      ]
     },
     "execution_count": 6,
     "metadata": {},
     "output_type": "execute_result"
    }
   ],
   "source": [
    "# Loading the XGBoost regressor model and label encoder from the saved model directory\n",
    "# retrieved_xgboost_model = joblib.load(saved_model_dir + \"/xgboost_regressor.pkl\")\n",
    "retrieved_xgboost_model = XGBRegressor()\n",
    "\n",
    "retrieved_xgboost_model.load_model(saved_model_dir + \"/model.json\")\n",
    "\n",
    "# Displaying the retrieved XGBoost regressor model\n",
    "retrieved_xgboost_model"
   ]
  },
  {
   "cell_type": "markdown",
   "id": "3ceb12f2",
   "metadata": {},
   "source": [
    "## <span style=\"color:#ff5f27;\">✨ Get Weather Forecast Features with Feature View   </span>\n",
    "\n"
   ]
  },
  {
   "cell_type": "code",
   "execution_count": 7,
   "id": "661af6da",
   "metadata": {},
   "outputs": [
    {
     "name": "stdout",
     "output_type": "stream",
     "text": [
      "Finished: Reading data from Hopsworks, using ArrowFlight (0.42s) \n"
     ]
    }
   ],
   "source": [
    "weather_fg = fs.get_feature_group(\n",
    "    name='weather',\n",
    "    version=1,\n",
    ")\n",
    "\n",
    "f = weather_fg.read()"
   ]
  },
  {
   "cell_type": "code",
   "execution_count": 8,
   "id": "57996bb6",
   "metadata": {},
   "outputs": [
    {
     "name": "stdout",
     "output_type": "stream",
     "text": [
      "Finished: Reading data from Hopsworks, using ArrowFlight (0.44s) \n"
     ]
    },
    {
     "data": {
      "text/html": [
       "<div>\n",
       "<style scoped>\n",
       "    .dataframe tbody tr th:only-of-type {\n",
       "        vertical-align: middle;\n",
       "    }\n",
       "\n",
       "    .dataframe tbody tr th {\n",
       "        vertical-align: top;\n",
       "    }\n",
       "\n",
       "    .dataframe thead th {\n",
       "        text-align: right;\n",
       "    }\n",
       "</style>\n",
       "<table border=\"1\" class=\"dataframe\">\n",
       "  <thead>\n",
       "    <tr style=\"text-align: right;\">\n",
       "      <th></th>\n",
       "      <th>date</th>\n",
       "      <th>pm25</th>\n",
       "      <th>country</th>\n",
       "      <th>city</th>\n",
       "      <th>street</th>\n",
       "    </tr>\n",
       "  </thead>\n",
       "  <tbody>\n",
       "    <tr>\n",
       "      <th>1465</th>\n",
       "      <td>2017-10-04 00:00:00+00:00</td>\n",
       "      <td>13.0</td>\n",
       "      <td>sweden</td>\n",
       "      <td>stockholm</td>\n",
       "      <td>stockholm-hornsgatan-108-gata</td>\n",
       "    </tr>\n",
       "    <tr>\n",
       "      <th>1076</th>\n",
       "      <td>2017-10-05 00:00:00+00:00</td>\n",
       "      <td>9.0</td>\n",
       "      <td>sweden</td>\n",
       "      <td>stockholm</td>\n",
       "      <td>stockholm-hornsgatan-108-gata</td>\n",
       "    </tr>\n",
       "    <tr>\n",
       "      <th>1917</th>\n",
       "      <td>2017-10-06 00:00:00+00:00</td>\n",
       "      <td>8.0</td>\n",
       "      <td>sweden</td>\n",
       "      <td>stockholm</td>\n",
       "      <td>stockholm-hornsgatan-108-gata</td>\n",
       "    </tr>\n",
       "    <tr>\n",
       "      <th>1941</th>\n",
       "      <td>2017-10-07 00:00:00+00:00</td>\n",
       "      <td>13.0</td>\n",
       "      <td>sweden</td>\n",
       "      <td>stockholm</td>\n",
       "      <td>stockholm-hornsgatan-108-gata</td>\n",
       "    </tr>\n",
       "    <tr>\n",
       "      <th>1355</th>\n",
       "      <td>2017-10-08 00:00:00+00:00</td>\n",
       "      <td>8.0</td>\n",
       "      <td>sweden</td>\n",
       "      <td>stockholm</td>\n",
       "      <td>stockholm-hornsgatan-108-gata</td>\n",
       "    </tr>\n",
       "    <tr>\n",
       "      <th>...</th>\n",
       "      <td>...</td>\n",
       "      <td>...</td>\n",
       "      <td>...</td>\n",
       "      <td>...</td>\n",
       "      <td>...</td>\n",
       "    </tr>\n",
       "    <tr>\n",
       "      <th>1569</th>\n",
       "      <td>2024-02-29 00:00:00+00:00</td>\n",
       "      <td>38.0</td>\n",
       "      <td>sweden</td>\n",
       "      <td>stockholm</td>\n",
       "      <td>stockholm-hornsgatan-108-gata</td>\n",
       "    </tr>\n",
       "    <tr>\n",
       "      <th>1312</th>\n",
       "      <td>2024-03-01 00:00:00+00:00</td>\n",
       "      <td>46.0</td>\n",
       "      <td>sweden</td>\n",
       "      <td>stockholm</td>\n",
       "      <td>stockholm-hornsgatan-108-gata</td>\n",
       "    </tr>\n",
       "    <tr>\n",
       "      <th>2143</th>\n",
       "      <td>2024-03-02 00:00:00+00:00</td>\n",
       "      <td>59.0</td>\n",
       "      <td>sweden</td>\n",
       "      <td>stockholm</td>\n",
       "      <td>stockholm-hornsgatan-108-gata</td>\n",
       "    </tr>\n",
       "    <tr>\n",
       "      <th>2232</th>\n",
       "      <td>2024-03-03 00:00:00+00:00</td>\n",
       "      <td>48.0</td>\n",
       "      <td>sweden</td>\n",
       "      <td>stockholm</td>\n",
       "      <td>stockholm-hornsgatan-108-gata</td>\n",
       "    </tr>\n",
       "    <tr>\n",
       "      <th>2269</th>\n",
       "      <td>2024-03-12 00:00:00+00:00</td>\n",
       "      <td>46.0</td>\n",
       "      <td>sweden</td>\n",
       "      <td>stockholm</td>\n",
       "      <td>stockholm-hornsgatan-108-gata</td>\n",
       "    </tr>\n",
       "  </tbody>\n",
       "</table>\n",
       "<p>2270 rows × 5 columns</p>\n",
       "</div>"
      ],
      "text/plain": [
       "                          date  pm25 country       city  \\\n",
       "1465 2017-10-04 00:00:00+00:00  13.0  sweden  stockholm   \n",
       "1076 2017-10-05 00:00:00+00:00   9.0  sweden  stockholm   \n",
       "1917 2017-10-06 00:00:00+00:00   8.0  sweden  stockholm   \n",
       "1941 2017-10-07 00:00:00+00:00  13.0  sweden  stockholm   \n",
       "1355 2017-10-08 00:00:00+00:00   8.0  sweden  stockholm   \n",
       "...                        ...   ...     ...        ...   \n",
       "1569 2024-02-29 00:00:00+00:00  38.0  sweden  stockholm   \n",
       "1312 2024-03-01 00:00:00+00:00  46.0  sweden  stockholm   \n",
       "2143 2024-03-02 00:00:00+00:00  59.0  sweden  stockholm   \n",
       "2232 2024-03-03 00:00:00+00:00  48.0  sweden  stockholm   \n",
       "2269 2024-03-12 00:00:00+00:00  46.0  sweden  stockholm   \n",
       "\n",
       "                             street  \n",
       "1465  stockholm-hornsgatan-108-gata  \n",
       "1076  stockholm-hornsgatan-108-gata  \n",
       "1917  stockholm-hornsgatan-108-gata  \n",
       "1941  stockholm-hornsgatan-108-gata  \n",
       "1355  stockholm-hornsgatan-108-gata  \n",
       "...                             ...  \n",
       "1569  stockholm-hornsgatan-108-gata  \n",
       "1312  stockholm-hornsgatan-108-gata  \n",
       "2143  stockholm-hornsgatan-108-gata  \n",
       "2232  stockholm-hornsgatan-108-gata  \n",
       "2269  stockholm-hornsgatan-108-gata  \n",
       "\n",
       "[2270 rows x 5 columns]"
      ]
     },
     "execution_count": 8,
     "metadata": {},
     "output_type": "execute_result"
    }
   ],
   "source": [
    "air_quality_fg = fs.get_feature_group(\n",
    "    name='air_quality',\n",
    "    version=1,\n",
    ")\n",
    "a = air_quality_fg.read()\n",
    "a = a.sort_values(by=['date'])\n",
    "a"
   ]
  },
  {
   "cell_type": "code",
   "execution_count": 9,
   "id": "9971a7fa",
   "metadata": {},
   "outputs": [
    {
     "data": {
      "text/html": [
       "<div>\n",
       "<style scoped>\n",
       "    .dataframe tbody tr th:only-of-type {\n",
       "        vertical-align: middle;\n",
       "    }\n",
       "\n",
       "    .dataframe tbody tr th {\n",
       "        vertical-align: top;\n",
       "    }\n",
       "\n",
       "    .dataframe thead th {\n",
       "        text-align: right;\n",
       "    }\n",
       "</style>\n",
       "<table border=\"1\" class=\"dataframe\">\n",
       "  <thead>\n",
       "    <tr style=\"text-align: right;\">\n",
       "      <th></th>\n",
       "      <th>date</th>\n",
       "      <th>temperature_2m_mean</th>\n",
       "      <th>precipitation_sum</th>\n",
       "      <th>wind_speed_10m_max</th>\n",
       "      <th>wind_direction_10m_dominant</th>\n",
       "      <th>city</th>\n",
       "    </tr>\n",
       "  </thead>\n",
       "  <tbody>\n",
       "    <tr>\n",
       "      <th>2352</th>\n",
       "      <td>2024-03-12 00:00:00+00:00</td>\n",
       "      <td>5.95</td>\n",
       "      <td>0.0</td>\n",
       "      <td>6.618519</td>\n",
       "      <td>112.380180</td>\n",
       "      <td>stockholm</td>\n",
       "    </tr>\n",
       "    <tr>\n",
       "      <th>2354</th>\n",
       "      <td>2024-03-13 00:00:00+00:00</td>\n",
       "      <td>4.40</td>\n",
       "      <td>0.0</td>\n",
       "      <td>10.799999</td>\n",
       "      <td>216.869980</td>\n",
       "      <td>stockholm</td>\n",
       "    </tr>\n",
       "    <tr>\n",
       "      <th>2357</th>\n",
       "      <td>2024-03-14 00:00:00+00:00</td>\n",
       "      <td>9.40</td>\n",
       "      <td>0.0</td>\n",
       "      <td>17.414474</td>\n",
       "      <td>209.744797</td>\n",
       "      <td>stockholm</td>\n",
       "    </tr>\n",
       "    <tr>\n",
       "      <th>2359</th>\n",
       "      <td>2024-03-15 00:00:00+00:00</td>\n",
       "      <td>8.65</td>\n",
       "      <td>0.5</td>\n",
       "      <td>14.825706</td>\n",
       "      <td>209.054504</td>\n",
       "      <td>stockholm</td>\n",
       "    </tr>\n",
       "    <tr>\n",
       "      <th>2350</th>\n",
       "      <td>2024-03-16 00:00:00+00:00</td>\n",
       "      <td>8.80</td>\n",
       "      <td>0.2</td>\n",
       "      <td>8.287822</td>\n",
       "      <td>145.619598</td>\n",
       "      <td>stockholm</td>\n",
       "    </tr>\n",
       "    <tr>\n",
       "      <th>2351</th>\n",
       "      <td>2024-03-17 00:00:00+00:00</td>\n",
       "      <td>-1.75</td>\n",
       "      <td>0.1</td>\n",
       "      <td>22.366402</td>\n",
       "      <td>3.691312</td>\n",
       "      <td>stockholm</td>\n",
       "    </tr>\n",
       "    <tr>\n",
       "      <th>2355</th>\n",
       "      <td>2024-03-18 00:00:00+00:00</td>\n",
       "      <td>-1.50</td>\n",
       "      <td>0.0</td>\n",
       "      <td>14.241629</td>\n",
       "      <td>16.144413</td>\n",
       "      <td>stockholm</td>\n",
       "    </tr>\n",
       "    <tr>\n",
       "      <th>2353</th>\n",
       "      <td>2024-03-19 00:00:00+00:00</td>\n",
       "      <td>1.80</td>\n",
       "      <td>0.0</td>\n",
       "      <td>4.320000</td>\n",
       "      <td>360.000000</td>\n",
       "      <td>stockholm</td>\n",
       "    </tr>\n",
       "    <tr>\n",
       "      <th>2356</th>\n",
       "      <td>2024-03-20 00:00:00+00:00</td>\n",
       "      <td>2.60</td>\n",
       "      <td>0.0</td>\n",
       "      <td>3.319036</td>\n",
       "      <td>77.471199</td>\n",
       "      <td>stockholm</td>\n",
       "    </tr>\n",
       "    <tr>\n",
       "      <th>2358</th>\n",
       "      <td>2024-03-21 00:00:00+00:00</td>\n",
       "      <td>3.10</td>\n",
       "      <td>0.0</td>\n",
       "      <td>15.175612</td>\n",
       "      <td>157.693741</td>\n",
       "      <td>stockholm</td>\n",
       "    </tr>\n",
       "  </tbody>\n",
       "</table>\n",
       "</div>"
      ],
      "text/plain": [
       "                          date  temperature_2m_mean  precipitation_sum  \\\n",
       "2352 2024-03-12 00:00:00+00:00                 5.95                0.0   \n",
       "2354 2024-03-13 00:00:00+00:00                 4.40                0.0   \n",
       "2357 2024-03-14 00:00:00+00:00                 9.40                0.0   \n",
       "2359 2024-03-15 00:00:00+00:00                 8.65                0.5   \n",
       "2350 2024-03-16 00:00:00+00:00                 8.80                0.2   \n",
       "2351 2024-03-17 00:00:00+00:00                -1.75                0.1   \n",
       "2355 2024-03-18 00:00:00+00:00                -1.50                0.0   \n",
       "2353 2024-03-19 00:00:00+00:00                 1.80                0.0   \n",
       "2356 2024-03-20 00:00:00+00:00                 2.60                0.0   \n",
       "2358 2024-03-21 00:00:00+00:00                 3.10                0.0   \n",
       "\n",
       "      wind_speed_10m_max  wind_direction_10m_dominant       city  \n",
       "2352            6.618519                   112.380180  stockholm  \n",
       "2354           10.799999                   216.869980  stockholm  \n",
       "2357           17.414474                   209.744797  stockholm  \n",
       "2359           14.825706                   209.054504  stockholm  \n",
       "2350            8.287822                   145.619598  stockholm  \n",
       "2351           22.366402                     3.691312  stockholm  \n",
       "2355           14.241629                    16.144413  stockholm  \n",
       "2353            4.320000                   360.000000  stockholm  \n",
       "2356            3.319036                    77.471199  stockholm  \n",
       "2358           15.175612                   157.693741  stockholm  "
      ]
     },
     "execution_count": 9,
     "metadata": {},
     "output_type": "execute_result"
    }
   ],
   "source": [
    "batch_data = f[f['date'] >= str(today)]\n",
    "batch_data = batch_data.sort_values(by=['date'])\n",
    "batch_data"
   ]
  },
  {
   "cell_type": "code",
   "execution_count": 10,
   "id": "3808a7a4",
   "metadata": {},
   "outputs": [
    {
     "name": "stdout",
     "output_type": "stream",
     "text": [
      "<class 'pandas.core.frame.DataFrame'>\n",
      "Index: 10 entries, 2352 to 2358\n",
      "Data columns (total 6 columns):\n",
      " #   Column                       Non-Null Count  Dtype              \n",
      "---  ------                       --------------  -----              \n",
      " 0   date                         10 non-null     datetime64[us, UTC]\n",
      " 1   temperature_2m_mean          10 non-null     float32            \n",
      " 2   precipitation_sum            10 non-null     float32            \n",
      " 3   wind_speed_10m_max           10 non-null     float32            \n",
      " 4   wind_direction_10m_dominant  10 non-null     float32            \n",
      " 5   city                         10 non-null     object             \n",
      "dtypes: datetime64[us, UTC](1), float32(4), object(1)\n",
      "memory usage: 400.0+ bytes\n"
     ]
    }
   ],
   "source": [
    "batch_data.info()"
   ]
  },
  {
   "cell_type": "code",
   "execution_count": 11,
   "id": "71ff3d00",
   "metadata": {},
   "outputs": [],
   "source": [
    "# batch_data = feature_view.get_batch_data(start_time=today, event_time=True, primary_key=True)\n",
    "# pred_df = batch_data.drop(columns=['date'])\n",
    "# print(feature_view.query.to_string())"
   ]
  },
  {
   "cell_type": "markdown",
   "id": "4b7a4be2",
   "metadata": {},
   "source": [
    "### <span style=\"color:#ff5f27;\">🤖 Making the predictions</span>"
   ]
  },
  {
   "cell_type": "code",
   "execution_count": 12,
   "id": "4ec4c3b8",
   "metadata": {},
   "outputs": [
    {
     "data": {
      "text/html": [
       "<div>\n",
       "<style scoped>\n",
       "    .dataframe tbody tr th:only-of-type {\n",
       "        vertical-align: middle;\n",
       "    }\n",
       "\n",
       "    .dataframe tbody tr th {\n",
       "        vertical-align: top;\n",
       "    }\n",
       "\n",
       "    .dataframe thead th {\n",
       "        text-align: right;\n",
       "    }\n",
       "</style>\n",
       "<table border=\"1\" class=\"dataframe\">\n",
       "  <thead>\n",
       "    <tr style=\"text-align: right;\">\n",
       "      <th></th>\n",
       "      <th>date</th>\n",
       "      <th>temperature_2m_mean</th>\n",
       "      <th>precipitation_sum</th>\n",
       "      <th>wind_speed_10m_max</th>\n",
       "      <th>wind_direction_10m_dominant</th>\n",
       "      <th>city</th>\n",
       "      <th>predicted_pm25</th>\n",
       "    </tr>\n",
       "  </thead>\n",
       "  <tbody>\n",
       "    <tr>\n",
       "      <th>2352</th>\n",
       "      <td>2024-03-12 00:00:00+00:00</td>\n",
       "      <td>5.95</td>\n",
       "      <td>0.0</td>\n",
       "      <td>6.618519</td>\n",
       "      <td>112.380180</td>\n",
       "      <td>stockholm</td>\n",
       "      <td>58.964191</td>\n",
       "    </tr>\n",
       "    <tr>\n",
       "      <th>2354</th>\n",
       "      <td>2024-03-13 00:00:00+00:00</td>\n",
       "      <td>4.40</td>\n",
       "      <td>0.0</td>\n",
       "      <td>10.799999</td>\n",
       "      <td>216.869980</td>\n",
       "      <td>stockholm</td>\n",
       "      <td>43.018803</td>\n",
       "    </tr>\n",
       "    <tr>\n",
       "      <th>2357</th>\n",
       "      <td>2024-03-14 00:00:00+00:00</td>\n",
       "      <td>9.40</td>\n",
       "      <td>0.0</td>\n",
       "      <td>17.414474</td>\n",
       "      <td>209.744797</td>\n",
       "      <td>stockholm</td>\n",
       "      <td>39.864429</td>\n",
       "    </tr>\n",
       "    <tr>\n",
       "      <th>2359</th>\n",
       "      <td>2024-03-15 00:00:00+00:00</td>\n",
       "      <td>8.65</td>\n",
       "      <td>0.5</td>\n",
       "      <td>14.825706</td>\n",
       "      <td>209.054504</td>\n",
       "      <td>stockholm</td>\n",
       "      <td>33.077267</td>\n",
       "    </tr>\n",
       "    <tr>\n",
       "      <th>2350</th>\n",
       "      <td>2024-03-16 00:00:00+00:00</td>\n",
       "      <td>8.80</td>\n",
       "      <td>0.2</td>\n",
       "      <td>8.287822</td>\n",
       "      <td>145.619598</td>\n",
       "      <td>stockholm</td>\n",
       "      <td>35.166565</td>\n",
       "    </tr>\n",
       "    <tr>\n",
       "      <th>2351</th>\n",
       "      <td>2024-03-17 00:00:00+00:00</td>\n",
       "      <td>-1.75</td>\n",
       "      <td>0.1</td>\n",
       "      <td>22.366402</td>\n",
       "      <td>3.691312</td>\n",
       "      <td>stockholm</td>\n",
       "      <td>16.268124</td>\n",
       "    </tr>\n",
       "    <tr>\n",
       "      <th>2355</th>\n",
       "      <td>2024-03-18 00:00:00+00:00</td>\n",
       "      <td>-1.50</td>\n",
       "      <td>0.0</td>\n",
       "      <td>14.241629</td>\n",
       "      <td>16.144413</td>\n",
       "      <td>stockholm</td>\n",
       "      <td>20.995886</td>\n",
       "    </tr>\n",
       "    <tr>\n",
       "      <th>2353</th>\n",
       "      <td>2024-03-19 00:00:00+00:00</td>\n",
       "      <td>1.80</td>\n",
       "      <td>0.0</td>\n",
       "      <td>4.320000</td>\n",
       "      <td>360.000000</td>\n",
       "      <td>stockholm</td>\n",
       "      <td>27.325489</td>\n",
       "    </tr>\n",
       "    <tr>\n",
       "      <th>2356</th>\n",
       "      <td>2024-03-20 00:00:00+00:00</td>\n",
       "      <td>2.60</td>\n",
       "      <td>0.0</td>\n",
       "      <td>3.319036</td>\n",
       "      <td>77.471199</td>\n",
       "      <td>stockholm</td>\n",
       "      <td>49.869041</td>\n",
       "    </tr>\n",
       "    <tr>\n",
       "      <th>2358</th>\n",
       "      <td>2024-03-21 00:00:00+00:00</td>\n",
       "      <td>3.10</td>\n",
       "      <td>0.0</td>\n",
       "      <td>15.175612</td>\n",
       "      <td>157.693741</td>\n",
       "      <td>stockholm</td>\n",
       "      <td>39.632515</td>\n",
       "    </tr>\n",
       "  </tbody>\n",
       "</table>\n",
       "</div>"
      ],
      "text/plain": [
       "                          date  temperature_2m_mean  precipitation_sum  \\\n",
       "2352 2024-03-12 00:00:00+00:00                 5.95                0.0   \n",
       "2354 2024-03-13 00:00:00+00:00                 4.40                0.0   \n",
       "2357 2024-03-14 00:00:00+00:00                 9.40                0.0   \n",
       "2359 2024-03-15 00:00:00+00:00                 8.65                0.5   \n",
       "2350 2024-03-16 00:00:00+00:00                 8.80                0.2   \n",
       "2351 2024-03-17 00:00:00+00:00                -1.75                0.1   \n",
       "2355 2024-03-18 00:00:00+00:00                -1.50                0.0   \n",
       "2353 2024-03-19 00:00:00+00:00                 1.80                0.0   \n",
       "2356 2024-03-20 00:00:00+00:00                 2.60                0.0   \n",
       "2358 2024-03-21 00:00:00+00:00                 3.10                0.0   \n",
       "\n",
       "      wind_speed_10m_max  wind_direction_10m_dominant       city  \\\n",
       "2352            6.618519                   112.380180  stockholm   \n",
       "2354           10.799999                   216.869980  stockholm   \n",
       "2357           17.414474                   209.744797  stockholm   \n",
       "2359           14.825706                   209.054504  stockholm   \n",
       "2350            8.287822                   145.619598  stockholm   \n",
       "2351           22.366402                     3.691312  stockholm   \n",
       "2355           14.241629                    16.144413  stockholm   \n",
       "2353            4.320000                   360.000000  stockholm   \n",
       "2356            3.319036                    77.471199  stockholm   \n",
       "2358           15.175612                   157.693741  stockholm   \n",
       "\n",
       "      predicted_pm25  \n",
       "2352       58.964191  \n",
       "2354       43.018803  \n",
       "2357       39.864429  \n",
       "2359       33.077267  \n",
       "2350       35.166565  \n",
       "2351       16.268124  \n",
       "2355       20.995886  \n",
       "2353       27.325489  \n",
       "2356       49.869041  \n",
       "2358       39.632515  "
      ]
     },
     "execution_count": 12,
     "metadata": {},
     "output_type": "execute_result"
    }
   ],
   "source": [
    "batch_data['predicted_pm25'] = retrieved_xgboost_model.predict(\n",
    "    batch_data[['temperature_2m_mean', 'precipitation_sum', 'wind_speed_10m_max', 'wind_direction_10m_dominant']])\n",
    "batch_data"
   ]
  },
  {
   "cell_type": "code",
   "execution_count": 13,
   "id": "d8139187",
   "metadata": {},
   "outputs": [
    {
     "name": "stdout",
     "output_type": "stream",
     "text": [
      "<class 'pandas.core.frame.DataFrame'>\n",
      "Index: 10 entries, 2352 to 2358\n",
      "Data columns (total 7 columns):\n",
      " #   Column                       Non-Null Count  Dtype              \n",
      "---  ------                       --------------  -----              \n",
      " 0   date                         10 non-null     datetime64[us, UTC]\n",
      " 1   temperature_2m_mean          10 non-null     float32            \n",
      " 2   precipitation_sum            10 non-null     float32            \n",
      " 3   wind_speed_10m_max           10 non-null     float32            \n",
      " 4   wind_direction_10m_dominant  10 non-null     float32            \n",
      " 5   city                         10 non-null     object             \n",
      " 6   predicted_pm25               10 non-null     float32            \n",
      "dtypes: datetime64[us, UTC](1), float32(5), object(1)\n",
      "memory usage: 440.0+ bytes\n"
     ]
    }
   ],
   "source": [
    "batch_data.info()"
   ]
  },
  {
   "cell_type": "code",
   "execution_count": 14,
   "id": "13c7b3dc",
   "metadata": {},
   "outputs": [],
   "source": [
    "batch_data['street'] = street\n",
    "batch_data['city'] = city\n",
    "batch_data['country'] = country\n",
    "# Fill in the number of days before the date on which you made the forecast (base_date)\n",
    "batch_data['days_before_forecast_day'] = range(1, len(batch_data)+1)"
   ]
  },
  {
   "cell_type": "code",
   "execution_count": 15,
   "id": "c366ad18",
   "metadata": {},
   "outputs": [
    {
     "data": {
      "text/html": [
       "<div>\n",
       "<style scoped>\n",
       "    .dataframe tbody tr th:only-of-type {\n",
       "        vertical-align: middle;\n",
       "    }\n",
       "\n",
       "    .dataframe tbody tr th {\n",
       "        vertical-align: top;\n",
       "    }\n",
       "\n",
       "    .dataframe thead th {\n",
       "        text-align: right;\n",
       "    }\n",
       "</style>\n",
       "<table border=\"1\" class=\"dataframe\">\n",
       "  <thead>\n",
       "    <tr style=\"text-align: right;\">\n",
       "      <th></th>\n",
       "      <th>date</th>\n",
       "      <th>predicted_pm25</th>\n",
       "    </tr>\n",
       "  </thead>\n",
       "  <tbody>\n",
       "    <tr>\n",
       "      <th>2352</th>\n",
       "      <td>2024-03-12 00:00:00+00:00</td>\n",
       "      <td>58.964191</td>\n",
       "    </tr>\n",
       "    <tr>\n",
       "      <th>2354</th>\n",
       "      <td>2024-03-13 00:00:00+00:00</td>\n",
       "      <td>43.018803</td>\n",
       "    </tr>\n",
       "    <tr>\n",
       "      <th>2357</th>\n",
       "      <td>2024-03-14 00:00:00+00:00</td>\n",
       "      <td>39.864429</td>\n",
       "    </tr>\n",
       "    <tr>\n",
       "      <th>2359</th>\n",
       "      <td>2024-03-15 00:00:00+00:00</td>\n",
       "      <td>33.077267</td>\n",
       "    </tr>\n",
       "    <tr>\n",
       "      <th>2350</th>\n",
       "      <td>2024-03-16 00:00:00+00:00</td>\n",
       "      <td>35.166565</td>\n",
       "    </tr>\n",
       "    <tr>\n",
       "      <th>2351</th>\n",
       "      <td>2024-03-17 00:00:00+00:00</td>\n",
       "      <td>16.268124</td>\n",
       "    </tr>\n",
       "    <tr>\n",
       "      <th>2355</th>\n",
       "      <td>2024-03-18 00:00:00+00:00</td>\n",
       "      <td>20.995886</td>\n",
       "    </tr>\n",
       "    <tr>\n",
       "      <th>2353</th>\n",
       "      <td>2024-03-19 00:00:00+00:00</td>\n",
       "      <td>27.325489</td>\n",
       "    </tr>\n",
       "    <tr>\n",
       "      <th>2356</th>\n",
       "      <td>2024-03-20 00:00:00+00:00</td>\n",
       "      <td>49.869041</td>\n",
       "    </tr>\n",
       "    <tr>\n",
       "      <th>2358</th>\n",
       "      <td>2024-03-21 00:00:00+00:00</td>\n",
       "      <td>39.632515</td>\n",
       "    </tr>\n",
       "  </tbody>\n",
       "</table>\n",
       "</div>"
      ],
      "text/plain": [
       "                          date  predicted_pm25\n",
       "2352 2024-03-12 00:00:00+00:00       58.964191\n",
       "2354 2024-03-13 00:00:00+00:00       43.018803\n",
       "2357 2024-03-14 00:00:00+00:00       39.864429\n",
       "2359 2024-03-15 00:00:00+00:00       33.077267\n",
       "2350 2024-03-16 00:00:00+00:00       35.166565\n",
       "2351 2024-03-17 00:00:00+00:00       16.268124\n",
       "2355 2024-03-18 00:00:00+00:00       20.995886\n",
       "2353 2024-03-19 00:00:00+00:00       27.325489\n",
       "2356 2024-03-20 00:00:00+00:00       49.869041\n",
       "2358 2024-03-21 00:00:00+00:00       39.632515"
      ]
     },
     "execution_count": 15,
     "metadata": {},
     "output_type": "execute_result"
    }
   ],
   "source": [
    "batch_data[['date', 'predicted_pm25']]"
   ]
  },
  {
   "cell_type": "code",
   "execution_count": 16,
   "id": "3a0551fd",
   "metadata": {},
   "outputs": [
    {
     "name": "stdout",
     "output_type": "stream",
     "text": [
      "<class 'pandas.core.frame.DataFrame'>\n",
      "Index: 10 entries, 2352 to 2358\n",
      "Data columns (total 10 columns):\n",
      " #   Column                       Non-Null Count  Dtype              \n",
      "---  ------                       --------------  -----              \n",
      " 0   date                         10 non-null     datetime64[us, UTC]\n",
      " 1   temperature_2m_mean          10 non-null     float32            \n",
      " 2   precipitation_sum            10 non-null     float32            \n",
      " 3   wind_speed_10m_max           10 non-null     float32            \n",
      " 4   wind_direction_10m_dominant  10 non-null     float32            \n",
      " 5   city                         10 non-null     object             \n",
      " 6   predicted_pm25               10 non-null     float32            \n",
      " 7   street                       10 non-null     object             \n",
      " 8   country                      10 non-null     object             \n",
      " 9   days_before_forecast_day     10 non-null     int64              \n",
      "dtypes: datetime64[us, UTC](1), float32(5), int64(1), object(3)\n",
      "memory usage: 680.0+ bytes\n"
     ]
    }
   ],
   "source": [
    "batch_data.info()"
   ]
  },
  {
   "cell_type": "markdown",
   "id": "44184de2",
   "metadata": {},
   "source": [
    "### Create Forecast Graph\n",
    "Draw a graph of the predictions with dates as a PNG and save it to the github repo\n",
    "Show it on github pages"
   ]
  },
  {
   "cell_type": "code",
   "execution_count": null,
   "id": "67a942d8",
   "metadata": {},
   "outputs": [],
   "source": [
    "file_path = \"../../docs/air-quality/assets/img/pm25_forecast.png\"\n",
    "plt = util.plot_air_quality_forecast(batch_data, file_path)\n",
    "plt.show()"
   ]
  },
  {
   "cell_type": "code",
   "execution_count": 18,
   "id": "1b83ecf3",
   "metadata": {},
   "outputs": [],
   "source": [
    "# Get or create feature group\n",
    "monitor_fg = fs.get_or_create_feature_group(\n",
    "    name='aq_monitoring',\n",
    "    description='Air Quality prediction monitoring',\n",
    "    version=1,\n",
    "    primary_key=['country','street','date', 'days_before_forecast_day'],\n",
    "    event_time=\"date\"\n",
    ")"
   ]
  },
  {
   "cell_type": "code",
   "execution_count": 19,
   "id": "df25b7a0",
   "metadata": {},
   "outputs": [
    {
     "name": "stdout",
     "output_type": "stream",
     "text": [
      "Feature Group created successfully, explore it at \n",
      "https://snurran.hops.works/p/8321/fs/8269/fg/9309\n"
     ]
    },
    {
     "data": {
      "application/vnd.jupyter.widget-view+json": {
       "model_id": "38f630d9ec8443c3acd12296c0138c44",
       "version_major": 2,
       "version_minor": 0
      },
      "text/plain": [
       "Uploading Dataframe: 0.00% |          | Rows 0/10 | Elapsed Time: 00:00 | Remaining Time: ?"
      ]
     },
     "metadata": {},
     "output_type": "display_data"
    },
    {
     "name": "stdout",
     "output_type": "stream",
     "text": [
      "Launching job: aq_monitoring_1_offline_fg_materialization\n",
      "Job started successfully, you can follow the progress at \n",
      "https://snurran.hops.works/p/8321/jobs/named/aq_monitoring_1_offline_fg_materialization/executions\n"
     ]
    },
    {
     "data": {
      "text/plain": [
       "(<hsfs.core.job.Job at 0x7fc682586410>, None)"
      ]
     },
     "execution_count": 19,
     "metadata": {},
     "output_type": "execute_result"
    }
   ],
   "source": [
    "monitor_fg.insert(batch_data, wait=True)"
   ]
  },
  {
   "cell_type": "code",
   "execution_count": 20,
   "id": "1ccd79d4",
   "metadata": {},
   "outputs": [
    {
     "name": "stdout",
     "output_type": "stream",
     "text": [
      "Finished: Reading data from Hopsworks, using ArrowFlight (0.50s) \n"
     ]
    },
    {
     "data": {
      "text/html": [
       "<div>\n",
       "<style scoped>\n",
       "    .dataframe tbody tr th:only-of-type {\n",
       "        vertical-align: middle;\n",
       "    }\n",
       "\n",
       "    .dataframe tbody tr th {\n",
       "        vertical-align: top;\n",
       "    }\n",
       "\n",
       "    .dataframe thead th {\n",
       "        text-align: right;\n",
       "    }\n",
       "</style>\n",
       "<table border=\"1\" class=\"dataframe\">\n",
       "  <thead>\n",
       "    <tr style=\"text-align: right;\">\n",
       "      <th></th>\n",
       "      <th>date</th>\n",
       "      <th>temperature_2m_mean</th>\n",
       "      <th>precipitation_sum</th>\n",
       "      <th>wind_speed_10m_max</th>\n",
       "      <th>wind_direction_10m_dominant</th>\n",
       "      <th>city</th>\n",
       "      <th>predicted_pm25</th>\n",
       "      <th>street</th>\n",
       "      <th>country</th>\n",
       "      <th>days_before_forecast_day</th>\n",
       "    </tr>\n",
       "  </thead>\n",
       "  <tbody>\n",
       "    <tr>\n",
       "      <th>0</th>\n",
       "      <td>2024-03-12 00:00:00+00:00</td>\n",
       "      <td>5.95</td>\n",
       "      <td>0.0</td>\n",
       "      <td>6.618519</td>\n",
       "      <td>112.38018</td>\n",
       "      <td>stockholm</td>\n",
       "      <td>58.964191</td>\n",
       "      <td>stockholm-hornsgatan-108-gata</td>\n",
       "      <td>sweden</td>\n",
       "      <td>1</td>\n",
       "    </tr>\n",
       "  </tbody>\n",
       "</table>\n",
       "</div>"
      ],
      "text/plain": [
       "                       date  temperature_2m_mean  precipitation_sum  \\\n",
       "0 2024-03-12 00:00:00+00:00                 5.95                0.0   \n",
       "\n",
       "   wind_speed_10m_max  wind_direction_10m_dominant       city  predicted_pm25  \\\n",
       "0            6.618519                    112.38018  stockholm       58.964191   \n",
       "\n",
       "                          street country  days_before_forecast_day  \n",
       "0  stockholm-hornsgatan-108-gata  sweden                         1  "
      ]
     },
     "execution_count": 20,
     "metadata": {},
     "output_type": "execute_result"
    }
   ],
   "source": [
    "from hsfs.feature import Feature\n",
    "\n",
    "# We will create a hindcast chart for  only the forecasts made 1 day beforehand\n",
    "monitoring_df = monitor_fg.filter(Feature(\"days_before_forecast_day\") == 1).read()\n",
    "monitoring_df"
   ]
  },
  {
   "cell_type": "code",
   "execution_count": 21,
   "id": "109cba86",
   "metadata": {},
   "outputs": [
    {
     "name": "stdout",
     "output_type": "stream",
     "text": [
      "Finished: Reading data from Hopsworks, using ArrowFlight (0.43s) \n"
     ]
    },
    {
     "data": {
      "text/html": [
       "<div>\n",
       "<style scoped>\n",
       "    .dataframe tbody tr th:only-of-type {\n",
       "        vertical-align: middle;\n",
       "    }\n",
       "\n",
       "    .dataframe tbody tr th {\n",
       "        vertical-align: top;\n",
       "    }\n",
       "\n",
       "    .dataframe thead th {\n",
       "        text-align: right;\n",
       "    }\n",
       "</style>\n",
       "<table border=\"1\" class=\"dataframe\">\n",
       "  <thead>\n",
       "    <tr style=\"text-align: right;\">\n",
       "      <th></th>\n",
       "      <th>date</th>\n",
       "      <th>pm25</th>\n",
       "      <th>country</th>\n",
       "      <th>city</th>\n",
       "      <th>street</th>\n",
       "    </tr>\n",
       "  </thead>\n",
       "  <tbody>\n",
       "    <tr>\n",
       "      <th>0</th>\n",
       "      <td>2017-10-18 00:00:00+00:00</td>\n",
       "      <td>10.0</td>\n",
       "      <td>sweden</td>\n",
       "      <td>stockholm</td>\n",
       "      <td>stockholm-hornsgatan-108-gata</td>\n",
       "    </tr>\n",
       "    <tr>\n",
       "      <th>1</th>\n",
       "      <td>2020-06-17 00:00:00+00:00</td>\n",
       "      <td>30.0</td>\n",
       "      <td>sweden</td>\n",
       "      <td>stockholm</td>\n",
       "      <td>stockholm-hornsgatan-108-gata</td>\n",
       "    </tr>\n",
       "    <tr>\n",
       "      <th>2</th>\n",
       "      <td>2023-04-12 00:00:00+00:00</td>\n",
       "      <td>62.0</td>\n",
       "      <td>sweden</td>\n",
       "      <td>stockholm</td>\n",
       "      <td>stockholm-hornsgatan-108-gata</td>\n",
       "    </tr>\n",
       "    <tr>\n",
       "      <th>3</th>\n",
       "      <td>2020-03-22 00:00:00+00:00</td>\n",
       "      <td>16.0</td>\n",
       "      <td>sweden</td>\n",
       "      <td>stockholm</td>\n",
       "      <td>stockholm-hornsgatan-108-gata</td>\n",
       "    </tr>\n",
       "    <tr>\n",
       "      <th>4</th>\n",
       "      <td>2018-11-11 00:00:00+00:00</td>\n",
       "      <td>57.0</td>\n",
       "      <td>sweden</td>\n",
       "      <td>stockholm</td>\n",
       "      <td>stockholm-hornsgatan-108-gata</td>\n",
       "    </tr>\n",
       "    <tr>\n",
       "      <th>...</th>\n",
       "      <td>...</td>\n",
       "      <td>...</td>\n",
       "      <td>...</td>\n",
       "      <td>...</td>\n",
       "      <td>...</td>\n",
       "    </tr>\n",
       "    <tr>\n",
       "      <th>2265</th>\n",
       "      <td>2017-10-12 00:00:00+00:00</td>\n",
       "      <td>10.0</td>\n",
       "      <td>sweden</td>\n",
       "      <td>stockholm</td>\n",
       "      <td>stockholm-hornsgatan-108-gata</td>\n",
       "    </tr>\n",
       "    <tr>\n",
       "      <th>2266</th>\n",
       "      <td>2020-10-08 00:00:00+00:00</td>\n",
       "      <td>17.0</td>\n",
       "      <td>sweden</td>\n",
       "      <td>stockholm</td>\n",
       "      <td>stockholm-hornsgatan-108-gata</td>\n",
       "    </tr>\n",
       "    <tr>\n",
       "      <th>2267</th>\n",
       "      <td>2018-04-23 00:00:00+00:00</td>\n",
       "      <td>17.0</td>\n",
       "      <td>sweden</td>\n",
       "      <td>stockholm</td>\n",
       "      <td>stockholm-hornsgatan-108-gata</td>\n",
       "    </tr>\n",
       "    <tr>\n",
       "      <th>2268</th>\n",
       "      <td>2019-03-27 00:00:00+00:00</td>\n",
       "      <td>33.0</td>\n",
       "      <td>sweden</td>\n",
       "      <td>stockholm</td>\n",
       "      <td>stockholm-hornsgatan-108-gata</td>\n",
       "    </tr>\n",
       "    <tr>\n",
       "      <th>2269</th>\n",
       "      <td>2024-03-12 00:00:00+00:00</td>\n",
       "      <td>46.0</td>\n",
       "      <td>sweden</td>\n",
       "      <td>stockholm</td>\n",
       "      <td>stockholm-hornsgatan-108-gata</td>\n",
       "    </tr>\n",
       "  </tbody>\n",
       "</table>\n",
       "<p>2270 rows × 5 columns</p>\n",
       "</div>"
      ],
      "text/plain": [
       "                          date  pm25 country       city  \\\n",
       "0    2017-10-18 00:00:00+00:00  10.0  sweden  stockholm   \n",
       "1    2020-06-17 00:00:00+00:00  30.0  sweden  stockholm   \n",
       "2    2023-04-12 00:00:00+00:00  62.0  sweden  stockholm   \n",
       "3    2020-03-22 00:00:00+00:00  16.0  sweden  stockholm   \n",
       "4    2018-11-11 00:00:00+00:00  57.0  sweden  stockholm   \n",
       "...                        ...   ...     ...        ...   \n",
       "2265 2017-10-12 00:00:00+00:00  10.0  sweden  stockholm   \n",
       "2266 2020-10-08 00:00:00+00:00  17.0  sweden  stockholm   \n",
       "2267 2018-04-23 00:00:00+00:00  17.0  sweden  stockholm   \n",
       "2268 2019-03-27 00:00:00+00:00  33.0  sweden  stockholm   \n",
       "2269 2024-03-12 00:00:00+00:00  46.0  sweden  stockholm   \n",
       "\n",
       "                             street  \n",
       "0     stockholm-hornsgatan-108-gata  \n",
       "1     stockholm-hornsgatan-108-gata  \n",
       "2     stockholm-hornsgatan-108-gata  \n",
       "3     stockholm-hornsgatan-108-gata  \n",
       "4     stockholm-hornsgatan-108-gata  \n",
       "...                             ...  \n",
       "2265  stockholm-hornsgatan-108-gata  \n",
       "2266  stockholm-hornsgatan-108-gata  \n",
       "2267  stockholm-hornsgatan-108-gata  \n",
       "2268  stockholm-hornsgatan-108-gata  \n",
       "2269  stockholm-hornsgatan-108-gata  \n",
       "\n",
       "[2270 rows x 5 columns]"
      ]
     },
     "execution_count": 21,
     "metadata": {},
     "output_type": "execute_result"
    }
   ],
   "source": [
    "air_quality_fg = fs.get_feature_group(\n",
    "    name='air_quality',\n",
    "    version=1,\n",
    ")\n",
    "air_quality_df = air_quality_fg.read()\n",
    "air_quality_df"
   ]
  },
  {
   "cell_type": "code",
   "execution_count": 22,
   "id": "f7d7e449",
   "metadata": {},
   "outputs": [
    {
     "name": "stdout",
     "output_type": "stream",
     "text": [
      "<class 'pandas.core.frame.DataFrame'>\n",
      "RangeIndex: 2270 entries, 0 to 2269\n",
      "Data columns (total 5 columns):\n",
      " #   Column   Non-Null Count  Dtype              \n",
      "---  ------   --------------  -----              \n",
      " 0   date     2270 non-null   datetime64[us, UTC]\n",
      " 1   pm25     2270 non-null   float32            \n",
      " 2   country  2270 non-null   object             \n",
      " 3   city     2270 non-null   object             \n",
      " 4   street   2270 non-null   object             \n",
      "dtypes: datetime64[us, UTC](1), float32(1), object(3)\n",
      "memory usage: 79.9+ KB\n"
     ]
    }
   ],
   "source": [
    "air_quality_df.info()"
   ]
  },
  {
   "cell_type": "code",
   "execution_count": 23,
   "id": "e3ccc64f",
   "metadata": {},
   "outputs": [
    {
     "data": {
      "text/html": [
       "<div>\n",
       "<style scoped>\n",
       "    .dataframe tbody tr th:only-of-type {\n",
       "        vertical-align: middle;\n",
       "    }\n",
       "\n",
       "    .dataframe tbody tr th {\n",
       "        vertical-align: top;\n",
       "    }\n",
       "\n",
       "    .dataframe thead th {\n",
       "        text-align: right;\n",
       "    }\n",
       "</style>\n",
       "<table border=\"1\" class=\"dataframe\">\n",
       "  <thead>\n",
       "    <tr style=\"text-align: right;\">\n",
       "      <th></th>\n",
       "      <th>date</th>\n",
       "      <th>predicted_pm25</th>\n",
       "      <th>pm25</th>\n",
       "    </tr>\n",
       "  </thead>\n",
       "  <tbody>\n",
       "    <tr>\n",
       "      <th>0</th>\n",
       "      <td>2024-03-12 00:00:00+00:00</td>\n",
       "      <td>58.964191</td>\n",
       "      <td>46.0</td>\n",
       "    </tr>\n",
       "  </tbody>\n",
       "</table>\n",
       "</div>"
      ],
      "text/plain": [
       "                       date  predicted_pm25  pm25\n",
       "0 2024-03-12 00:00:00+00:00       58.964191  46.0"
      ]
     },
     "execution_count": 23,
     "metadata": {},
     "output_type": "execute_result"
    }
   ],
   "source": [
    "outcome_df = air_quality_df[['date', 'pm25']]\n",
    "preds_df =  monitoring_df[['date', 'predicted_pm25']]\n",
    "\n",
    "hindcast_df = pd.merge(preds_df, outcome_df, on=\"date\")\n",
    "hindcast_df = hindcast_df.sort_values(by=['date'])\n",
    "hindcast_df"
   ]
  },
  {
   "cell_type": "code",
   "execution_count": 24,
   "id": "85054b8a",
   "metadata": {},
   "outputs": [],
   "source": [
    "# import plotly.express as px\n",
    "\n",
    "# fig = px.line(hindcast_df, x=\"date\", y=['pm25', 'predicted_pm25'])\n",
    "# filename = \"../../docs/air-quality/assets/img/pm25_hindcast_1day.png\"\n",
    "# fig.write_image(filename)"
   ]
  },
  {
   "cell_type": "code",
   "execution_count": null,
   "id": "8c596042",
   "metadata": {},
   "outputs": [],
   "source": [
    "file_path = \"../../docs/air-quality/assets/img/pm25_hindcast_1day.png\"\n",
    "plt = util.plot_air_quality_forecast(hindcast_df, file_path, hindcast=True)\n",
    "plt.show()"
   ]
  },
  {
   "cell_type": "markdown",
   "id": "c95ce4fb",
   "metadata": {},
   "source": [
    "---"
   ]
  }
 ],
 "metadata": {
  "kernelspec": {
   "display_name": "Python 3",
   "language": "python",
   "name": "python3"
  },
  "language_info": {
   "codemirror_mode": {
    "name": "ipython",
    "version": 3
   },
   "file_extension": ".py",
   "mimetype": "text/x-python",
   "name": "python",
   "nbconvert_exporter": "python",
   "pygments_lexer": "ipython3",
   "version": "3.10.11"
  }
 },
 "nbformat": 4,
 "nbformat_minor": 5
}
