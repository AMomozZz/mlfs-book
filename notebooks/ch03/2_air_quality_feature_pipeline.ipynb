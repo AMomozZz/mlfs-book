{
 "cells": [
  {
   "cell_type": "markdown",
   "id": "b73a4dd9",
   "metadata": {},
   "source": [
    "<span style=\"font-width:bold; font-size: 3rem; color:#333;\">- Daily Feature Pipeline for Air Quality (aqicn.org) and weather (openmeteo)</span>\n",
    "\n",
    "## 🗒️ This notebook is divided into the following sections:\n",
    "1. Parse Data\n",
    "2. Feature Group Insertion"
   ]
  },
  {
   "cell_type": "markdown",
   "id": "eae99ecd",
   "metadata": {},
   "source": [
    "### <span style='color:#ff5f27'> 📝 Imports"
   ]
  },
  {
   "cell_type": "code",
   "execution_count": 1,
   "id": "6b9d8cb7",
   "metadata": {},
   "outputs": [
    {
     "name": "stderr",
     "output_type": "stream",
     "text": [
      "/home/jdowling/anaconda3/envs/book/lib/python3.10/site-packages/tqdm/auto.py:21: TqdmWarning: IProgress not found. Please update jupyter and ipywidgets. See https://ipywidgets.readthedocs.io/en/stable/user_install.html\n",
      "  from .autonotebook import tqdm as notebook_tqdm\n"
     ]
    }
   ],
   "source": [
    "import datetime\n",
    "import time\n",
    "import requests\n",
    "import pandas as pd\n",
    "import hopsworks\n",
    "from functions import *\n",
    "import warnings\n",
    "warnings.filterwarnings(\"ignore\")"
   ]
  },
  {
   "cell_type": "markdown",
   "id": "a24ed118",
   "metadata": {},
   "source": [
    "### Get AQI API Token\n",
    "\n",
    "Go here first, to get your AQI API key\n",
    "https://aqicn.org/data-platform/token/\n",
    "\n",
    "Then enter the token you copied into the following variable in the code below. \n",
    "\n",
    "AQI_API_KEY = "
   ]
  },
  {
   "cell_type": "code",
   "execution_count": 2,
   "id": "89e7d5fb",
   "metadata": {
    "tags": []
   },
   "outputs": [
    {
     "name": "stdout",
     "output_type": "stream",
     "text": [
      "Connected. Call `.close()` to terminate connection gracefully.\n",
      "\n",
      "Logged in to project, explore it here https://snurran.hops.works:443/p/5240\n",
      "Connected. Call `.close()` to terminate connection gracefully.\n",
      "Connected. Call `.close()` to terminate connection gracefully.\n"
     ]
    }
   ],
   "source": [
    "# Getting the current date\n",
    "today = datetime.date.today()\n",
    "yesterday = today - datetime.timedelta(days = 1)\n",
    "\n",
    "country=\"sweden\"\n",
    "city=\"stockholm\"\n",
    "street=\"stockholm-hornsgatan-108-gata\"\n",
    "\n",
    "project = hopsworks.login()\n",
    "fs = project.get_feature_store() \n",
    "\n",
    "# Get your AQI_API_KEY from here:\n",
    "# https://aqicn.org/data-platform/token/\n",
    "\n",
    "#AQI_API_KEY = # PUT YOUR AQI API KEY HERE\n",
    "AQI_API_KEY = hopsworks.connection().get_secrets_api().get_secret(\"AQI_API_KEY\").value\n"
   ]
  },
  {
   "cell_type": "markdown",
   "id": "2fed2e2f",
   "metadata": {},
   "source": [
    "### <span style=\"color:#ff5f27;\"> 🔮 Connecting to Hopsworks Feature Store </span>"
   ]
  },
  {
   "cell_type": "code",
   "execution_count": 3,
   "id": "87816443",
   "metadata": {},
   "outputs": [],
   "source": [
    "\n",
    "# Retrieve feature groups\n",
    "air_quality_fg = fs.get_feature_group(\n",
    "    name='air_quality',\n",
    "    version=1,\n",
    ")\n",
    "weather_fg = fs.get_feature_group(\n",
    "    name='weather',\n",
    "    version=1,\n",
    ")"
   ]
  },
  {
   "cell_type": "markdown",
   "id": "1ca3f6ae",
   "metadata": {},
   "source": [
    "---"
   ]
  },
  {
   "cell_type": "markdown",
   "id": "e3ab029b",
   "metadata": {},
   "source": [
    "## <span style='color:#ff5f27'> 🌫 Get Yesterday's Air Quality data (PM2.5) from the Feature Group</span>\n",
    "My Air quality sensor is:  https://aqicn.org/station/sweden/stockholm-sodermalm/ "
   ]
  },
  {
   "cell_type": "code",
   "execution_count": 4,
   "id": "39829214",
   "metadata": {
    "tags": []
   },
   "outputs": [
    {
     "name": "stderr",
     "output_type": "stream",
     "text": [
      "DeprecationWarning: ssl.PROTOCOL_TLS is deprecated\n"
     ]
    },
    {
     "name": "stdout",
     "output_type": "stream",
     "text": [
      "Finished: Reading data from Hopsworks, using Hive (2.25s) \n"
     ]
    }
   ],
   "source": [
    "# Read all data from the feature group\n",
    "df_air_quality = air_quality_fg.read()\n",
    "\n",
    "df = pd.DataFrame()\n",
    "df_air_quality['day'] = pd.to_datetime(df_air_quality['date']).dt.date"
   ]
  },
  {
   "cell_type": "code",
   "execution_count": 5,
   "id": "f26d6be9",
   "metadata": {
    "tags": []
   },
   "outputs": [],
   "source": [
    "# Extracting the \"date\" and \"city_name\" columns from the 'df_air_quality' DataFrame\n",
    "# Grouping the data by \"city_name\" and finding the maximum date for each city\n",
    "last_dates_aq = df_air_quality[[\"date\", \"city\", \"street\"]].groupby(\"street\").max()\n",
    "\n",
    "# Converting the date values to string format for consistency\n",
    "last_dates_aq.date = last_dates_aq.date.astype(str)"
   ]
  },
  {
   "cell_type": "code",
   "execution_count": 6,
   "id": "1f399b03",
   "metadata": {},
   "outputs": [
    {
     "data": {
      "text/html": [
       "<div>\n",
       "<style scoped>\n",
       "    .dataframe tbody tr th:only-of-type {\n",
       "        vertical-align: middle;\n",
       "    }\n",
       "\n",
       "    .dataframe tbody tr th {\n",
       "        vertical-align: top;\n",
       "    }\n",
       "\n",
       "    .dataframe thead th {\n",
       "        text-align: right;\n",
       "    }\n",
       "</style>\n",
       "<table border=\"1\" class=\"dataframe\">\n",
       "  <thead>\n",
       "    <tr style=\"text-align: right;\">\n",
       "      <th></th>\n",
       "      <th>pm25</th>\n",
       "      <th>country</th>\n",
       "      <th>city</th>\n",
       "      <th>street</th>\n",
       "      <th>date</th>\n",
       "    </tr>\n",
       "  </thead>\n",
       "  <tbody>\n",
       "    <tr>\n",
       "      <th>0</th>\n",
       "      <td>18.0</td>\n",
       "      <td>sweden</td>\n",
       "      <td>stockholm</td>\n",
       "      <td>stockholm-hornsgatan-108-gata</td>\n",
       "      <td>2024-03-05</td>\n",
       "    </tr>\n",
       "  </tbody>\n",
       "</table>\n",
       "</div>"
      ],
      "text/plain": [
       "   pm25 country       city                         street       date\n",
       "0  18.0  sweden  stockholm  stockholm-hornsgatan-108-gata 2024-03-05"
      ]
     },
     "execution_count": 6,
     "metadata": {},
     "output_type": "execute_result"
    }
   ],
   "source": [
    "import requests\n",
    "import pandas as pd\n",
    "\n",
    "# The API endpoint URL\n",
    "url = f\"https://api.waqi.info/feed/{country}/{street}/?token={AQI_API_KEY}\"\n",
    "\n",
    "# Make a GET request to fetch the data from the API\n",
    "response = requests.get(url)\n",
    "\n",
    "# Check if the request was successful\n",
    "if response.status_code == 200:\n",
    "    # Extract the JSON content from the response\n",
    "    data = response.json()\n",
    "    \n",
    "    # Check if the API response contains the data\n",
    "    if data['status'] == 'ok':\n",
    "        # Extract the air quality data\n",
    "        aqi_data = data['data']\n",
    "        aq_today_df = pd.DataFrame()  \n",
    "        aq_today_df['pm25'] = [aqi_data['iaqi'].get('pm25', {}).get('v', None)]\n",
    "        aq_today_df['pm25'] = aq_today_df['pm25'].astype('float32')\n",
    "    else:\n",
    "        print(\"Error: The API response does not contain data.\")\n",
    "else:\n",
    "    print(\"Failed to retrieve data. Status Code:\", response.status_code)\n",
    "    \n",
    "aq_today_df['country'] = country\n",
    "aq_today_df['city'] = city\n",
    "aq_today_df['street'] = street\n",
    "aq_today_df['date'] = today\n",
    "aq_today_df['date'] = pd.to_datetime(aq_today_df['date'])\n",
    "\n",
    "aq_today_df"
   ]
  },
  {
   "cell_type": "code",
   "execution_count": 7,
   "id": "6885fa5d",
   "metadata": {},
   "outputs": [
    {
     "name": "stdout",
     "output_type": "stream",
     "text": [
      "<class 'pandas.core.frame.DataFrame'>\n",
      "RangeIndex: 1 entries, 0 to 0\n",
      "Data columns (total 5 columns):\n",
      " #   Column   Non-Null Count  Dtype         \n",
      "---  ------   --------------  -----         \n",
      " 0   pm25     1 non-null      float32       \n",
      " 1   country  1 non-null      object        \n",
      " 2   city     1 non-null      object        \n",
      " 3   street   1 non-null      object        \n",
      " 4   date     1 non-null      datetime64[ns]\n",
      "dtypes: datetime64[ns](1), float32(1), object(3)\n",
      "memory usage: 164.0+ bytes\n"
     ]
    }
   ],
   "source": [
    "aq_today_df.info()"
   ]
  },
  {
   "cell_type": "markdown",
   "id": "fc890a51",
   "metadata": {},
   "source": [
    "## <span style='color:#ff5f27'> 🌦 Get Weather data</span>"
   ]
  },
  {
   "cell_type": "code",
   "execution_count": 8,
   "id": "be04b80b",
   "metadata": {},
   "outputs": [
    {
     "name": "stdout",
     "output_type": "stream",
     "text": [
      "Coordinates 59.19999694824219°N 18.0°E\n",
      "Elevation 18.0 m asl\n",
      "Timezone None None\n",
      "Timezone difference to GMT+0 0 s\n"
     ]
    },
    {
     "data": {
      "text/html": [
       "<div>\n",
       "<style scoped>\n",
       "    .dataframe tbody tr th:only-of-type {\n",
       "        vertical-align: middle;\n",
       "    }\n",
       "\n",
       "    .dataframe tbody tr th {\n",
       "        vertical-align: top;\n",
       "    }\n",
       "\n",
       "    .dataframe thead th {\n",
       "        text-align: right;\n",
       "    }\n",
       "</style>\n",
       "<table border=\"1\" class=\"dataframe\">\n",
       "  <thead>\n",
       "    <tr style=\"text-align: right;\">\n",
       "      <th></th>\n",
       "      <th>date</th>\n",
       "      <th>temperature_2m_mean</th>\n",
       "      <th>precipitation_sum</th>\n",
       "      <th>wind_speed_10m_max</th>\n",
       "      <th>wind_direction_10m_dominant</th>\n",
       "      <th>city</th>\n",
       "    </tr>\n",
       "  </thead>\n",
       "  <tbody>\n",
       "    <tr>\n",
       "      <th>0</th>\n",
       "      <td>2024-03-06</td>\n",
       "      <td>4.15</td>\n",
       "      <td>0.0</td>\n",
       "      <td>6.725354</td>\n",
       "      <td>74.475830</td>\n",
       "      <td>stockholm</td>\n",
       "    </tr>\n",
       "    <tr>\n",
       "      <th>1</th>\n",
       "      <td>2024-03-07</td>\n",
       "      <td>6.70</td>\n",
       "      <td>0.0</td>\n",
       "      <td>7.895416</td>\n",
       "      <td>294.227722</td>\n",
       "      <td>stockholm</td>\n",
       "    </tr>\n",
       "    <tr>\n",
       "      <th>2</th>\n",
       "      <td>2024-03-08</td>\n",
       "      <td>3.20</td>\n",
       "      <td>0.0</td>\n",
       "      <td>11.609651</td>\n",
       "      <td>7.124930</td>\n",
       "      <td>stockholm</td>\n",
       "    </tr>\n",
       "    <tr>\n",
       "      <th>3</th>\n",
       "      <td>2024-03-09</td>\n",
       "      <td>0.30</td>\n",
       "      <td>0.0</td>\n",
       "      <td>7.100310</td>\n",
       "      <td>59.534538</td>\n",
       "      <td>stockholm</td>\n",
       "    </tr>\n",
       "    <tr>\n",
       "      <th>4</th>\n",
       "      <td>2024-03-10</td>\n",
       "      <td>0.80</td>\n",
       "      <td>0.0</td>\n",
       "      <td>15.281989</td>\n",
       "      <td>74.981590</td>\n",
       "      <td>stockholm</td>\n",
       "    </tr>\n",
       "    <tr>\n",
       "      <th>5</th>\n",
       "      <td>2024-03-11</td>\n",
       "      <td>2.50</td>\n",
       "      <td>0.0</td>\n",
       "      <td>11.609651</td>\n",
       "      <td>82.875084</td>\n",
       "      <td>stockholm</td>\n",
       "    </tr>\n",
       "    <tr>\n",
       "      <th>6</th>\n",
       "      <td>2024-03-12</td>\n",
       "      <td>5.55</td>\n",
       "      <td>0.0</td>\n",
       "      <td>8.049845</td>\n",
       "      <td>169.695206</td>\n",
       "      <td>stockholm</td>\n",
       "    </tr>\n",
       "    <tr>\n",
       "      <th>7</th>\n",
       "      <td>2024-03-13</td>\n",
       "      <td>5.45</td>\n",
       "      <td>0.0</td>\n",
       "      <td>13.979871</td>\n",
       "      <td>168.111359</td>\n",
       "      <td>stockholm</td>\n",
       "    </tr>\n",
       "    <tr>\n",
       "      <th>8</th>\n",
       "      <td>2024-03-14</td>\n",
       "      <td>3.85</td>\n",
       "      <td>0.2</td>\n",
       "      <td>15.496736</td>\n",
       "      <td>177.337051</td>\n",
       "      <td>stockholm</td>\n",
       "    </tr>\n",
       "    <tr>\n",
       "      <th>9</th>\n",
       "      <td>2024-03-15</td>\n",
       "      <td>9.90</td>\n",
       "      <td>0.1</td>\n",
       "      <td>14.336861</td>\n",
       "      <td>231.115494</td>\n",
       "      <td>stockholm</td>\n",
       "    </tr>\n",
       "  </tbody>\n",
       "</table>\n",
       "</div>"
      ],
      "text/plain": [
       "        date  temperature_2m_mean  precipitation_sum  wind_speed_10m_max  \\\n",
       "0 2024-03-06                 4.15                0.0            6.725354   \n",
       "1 2024-03-07                 6.70                0.0            7.895416   \n",
       "2 2024-03-08                 3.20                0.0           11.609651   \n",
       "3 2024-03-09                 0.30                0.0            7.100310   \n",
       "4 2024-03-10                 0.80                0.0           15.281989   \n",
       "5 2024-03-11                 2.50                0.0           11.609651   \n",
       "6 2024-03-12                 5.55                0.0            8.049845   \n",
       "7 2024-03-13                 5.45                0.0           13.979871   \n",
       "8 2024-03-14                 3.85                0.2           15.496736   \n",
       "9 2024-03-15                 9.90                0.1           14.336861   \n",
       "\n",
       "   wind_direction_10m_dominant       city  \n",
       "0                    74.475830  stockholm  \n",
       "1                   294.227722  stockholm  \n",
       "2                     7.124930  stockholm  \n",
       "3                    59.534538  stockholm  \n",
       "4                    74.981590  stockholm  \n",
       "5                    82.875084  stockholm  \n",
       "6                   169.695206  stockholm  \n",
       "7                   168.111359  stockholm  \n",
       "8                   177.337051  stockholm  \n",
       "9                   231.115494  stockholm  "
      ]
     },
     "execution_count": 8,
     "metadata": {},
     "output_type": "execute_result"
    }
   ],
   "source": [
    "hourly_df = get_hourly_weather_forecast(city)\n",
    "hourly_df = hourly_df.set_index('date')\n",
    "\n",
    "## We only want the daily weather data, so only get weather at 12:00\n",
    "daily_df = hourly_df.between_time('11:59', '12:01')\n",
    "daily_df = daily_df.reset_index()\n",
    "daily_df['date'] = pd.to_datetime(daily_df['date']).dt.date\n",
    "daily_df['date'] = pd.to_datetime(daily_df['date'])\n",
    "daily_df['city'] = city\n",
    "daily_df"
   ]
  },
  {
   "cell_type": "code",
   "execution_count": 9,
   "id": "d8e50f4b",
   "metadata": {},
   "outputs": [
    {
     "name": "stdout",
     "output_type": "stream",
     "text": [
      "<class 'pandas.core.frame.DataFrame'>\n",
      "RangeIndex: 10 entries, 0 to 9\n",
      "Data columns (total 6 columns):\n",
      " #   Column                       Non-Null Count  Dtype         \n",
      "---  ------                       --------------  -----         \n",
      " 0   date                         10 non-null     datetime64[ns]\n",
      " 1   temperature_2m_mean          10 non-null     float32       \n",
      " 2   precipitation_sum            10 non-null     float32       \n",
      " 3   wind_speed_10m_max           10 non-null     float32       \n",
      " 4   wind_direction_10m_dominant  10 non-null     float32       \n",
      " 5   city                         10 non-null     object        \n",
      "dtypes: datetime64[ns](1), float32(4), object(1)\n",
      "memory usage: 448.0+ bytes\n"
     ]
    }
   ],
   "source": [
    "daily_df.info()"
   ]
  },
  {
   "cell_type": "markdown",
   "id": "c07047aa",
   "metadata": {
    "tags": []
   },
   "source": [
    "## <span style=\"color:#ff5f27;\">⬆️ Uploading new data to the Feature Store</span>"
   ]
  },
  {
   "cell_type": "code",
   "execution_count": 10,
   "id": "d314597a",
   "metadata": {},
   "outputs": [
    {
     "name": "stdout",
     "output_type": "stream",
     "text": [
      "Validation succeeded.\n",
      "Validation Report saved successfully, explore a summary at https://snurran.hops.works:443/p/5240/fs/5188/fg/7232\n"
     ]
    },
    {
     "name": "stderr",
     "output_type": "stream",
     "text": [
      "Uploading Dataframe: 100.00% |█████████████████████████████████████████████████████████████████████████████████| Rows 1/1 | Elapsed Time: 00:03 | Remaining Time: 00:00\n"
     ]
    },
    {
     "name": "stdout",
     "output_type": "stream",
     "text": [
      "Launching job: air_quality_1_offline_fg_materialization\n",
      "Job started successfully, you can follow the progress at \n",
      "https://snurran.hops.works/p/5240/jobs/named/air_quality_1_offline_fg_materialization/executions\n"
     ]
    },
    {
     "data": {
      "text/plain": [
       "(<hsfs.core.job.Job at 0x7fea4062eec0>,\n",
       " {\n",
       "   \"evaluation_parameters\": {},\n",
       "   \"meta\": {\n",
       "     \"great_expectations_version\": \"0.15.12\",\n",
       "     \"expectation_suite_name\": \"aq_expectation_suite\",\n",
       "     \"run_id\": {\n",
       "       \"run_time\": \"2024-03-05T21:03:35.975333+00:00\",\n",
       "       \"run_name\": null\n",
       "     },\n",
       "     \"batch_kwargs\": {\n",
       "       \"ge_batch_id\": \"d514152a-db33-11ee-a6fa-00155dd09873\"\n",
       "     },\n",
       "     \"batch_markers\": {},\n",
       "     \"batch_parameters\": {},\n",
       "     \"validation_time\": \"20240305T210335.975219Z\",\n",
       "     \"expectation_suite_meta\": {\n",
       "       \"great_expectations_version\": \"0.15.12\"\n",
       "     }\n",
       "   },\n",
       "   \"results\": [\n",
       "     {\n",
       "       \"exception_info\": {\n",
       "         \"raised_exception\": false,\n",
       "         \"exception_message\": null,\n",
       "         \"exception_traceback\": null\n",
       "       },\n",
       "       \"result\": {\n",
       "         \"observed_value\": 18.0,\n",
       "         \"element_count\": 1,\n",
       "         \"missing_count\": null,\n",
       "         \"missing_percent\": null\n",
       "       },\n",
       "       \"meta\": {\n",
       "         \"ingestionResult\": \"INGESTED\",\n",
       "         \"validationTime\": \"2024-03-05T09:03:35.000975Z\"\n",
       "       },\n",
       "       \"success\": true,\n",
       "       \"expectation_config\": {\n",
       "         \"expectation_type\": \"expect_column_min_to_be_between\",\n",
       "         \"meta\": {\n",
       "           \"expectationId\": 6184\n",
       "         },\n",
       "         \"kwargs\": {\n",
       "           \"column\": \"pm25\",\n",
       "           \"min_value\": -0.1,\n",
       "           \"max_value\": 999.9,\n",
       "           \"strict_min\": true\n",
       "         }\n",
       "       }\n",
       "     }\n",
       "   ],\n",
       "   \"success\": true,\n",
       "   \"statistics\": {\n",
       "     \"evaluated_expectations\": 1,\n",
       "     \"successful_expectations\": 1,\n",
       "     \"unsuccessful_expectations\": 0,\n",
       "     \"success_percent\": 100.0\n",
       "   }\n",
       " })"
      ]
     },
     "execution_count": 10,
     "metadata": {},
     "output_type": "execute_result"
    }
   ],
   "source": [
    "# Insert new data\n",
    "air_quality_fg.insert(aq_today_df)"
   ]
  },
  {
   "cell_type": "code",
   "execution_count": 11,
   "id": "2d1c7b1f",
   "metadata": {},
   "outputs": [
    {
     "name": "stdout",
     "output_type": "stream",
     "text": [
      "Validation succeeded.\n",
      "Validation Report saved successfully, explore a summary at https://snurran.hops.works:443/p/5240/fs/5188/fg/7233\n"
     ]
    },
    {
     "name": "stderr",
     "output_type": "stream",
     "text": [
      "Uploading Dataframe: 100.00% |███████████████████████████████████████████████████████████████████████████████| Rows 10/10 | Elapsed Time: 00:03 | Remaining Time: 00:00\n"
     ]
    },
    {
     "name": "stdout",
     "output_type": "stream",
     "text": [
      "Launching job: weather_1_offline_fg_materialization\n",
      "Job started successfully, you can follow the progress at \n",
      "https://snurran.hops.works/p/5240/jobs/named/weather_1_offline_fg_materialization/executions\n"
     ]
    },
    {
     "data": {
      "text/plain": [
       "(<hsfs.core.job.Job at 0x7fea4a02cd90>,\n",
       " {\n",
       "   \"evaluation_parameters\": {},\n",
       "   \"meta\": {\n",
       "     \"great_expectations_version\": \"0.15.12\",\n",
       "     \"expectation_suite_name\": \"weather_expectation_suite\",\n",
       "     \"run_id\": {\n",
       "       \"run_time\": \"2024-03-05T21:03:41.386239+00:00\",\n",
       "       \"run_name\": null\n",
       "     },\n",
       "     \"batch_kwargs\": {\n",
       "       \"ge_batch_id\": \"d84dba2a-db33-11ee-a6fa-00155dd09873\"\n",
       "     },\n",
       "     \"batch_markers\": {},\n",
       "     \"batch_parameters\": {},\n",
       "     \"validation_time\": \"20240305T210341.386116Z\",\n",
       "     \"expectation_suite_meta\": {\n",
       "       \"great_expectations_version\": \"0.15.12\"\n",
       "     }\n",
       "   },\n",
       "   \"results\": [\n",
       "     {\n",
       "       \"exception_info\": {\n",
       "         \"raised_exception\": false,\n",
       "         \"exception_message\": null,\n",
       "         \"exception_traceback\": null\n",
       "       },\n",
       "       \"result\": {\n",
       "         \"observed_value\": 6.725354194641113,\n",
       "         \"element_count\": 10,\n",
       "         \"missing_count\": null,\n",
       "         \"missing_percent\": null\n",
       "       },\n",
       "       \"meta\": {\n",
       "         \"ingestionResult\": \"INGESTED\",\n",
       "         \"validationTime\": \"2024-03-05T09:03:41.000386Z\"\n",
       "       },\n",
       "       \"success\": true,\n",
       "       \"expectation_config\": {\n",
       "         \"expectation_type\": \"expect_column_min_to_be_between\",\n",
       "         \"meta\": {\n",
       "           \"expectationId\": 6186\n",
       "         },\n",
       "         \"kwargs\": {\n",
       "           \"column\": \"wind_speed_10m_max\",\n",
       "           \"min_value\": -0.1,\n",
       "           \"max_value\": 1000.0,\n",
       "           \"strict_min\": true\n",
       "         }\n",
       "       }\n",
       "     },\n",
       "     {\n",
       "       \"exception_info\": {\n",
       "         \"raised_exception\": false,\n",
       "         \"exception_message\": null,\n",
       "         \"exception_traceback\": null\n",
       "       },\n",
       "       \"result\": {\n",
       "         \"observed_value\": 0.0,\n",
       "         \"element_count\": 10,\n",
       "         \"missing_count\": null,\n",
       "         \"missing_percent\": null\n",
       "       },\n",
       "       \"meta\": {\n",
       "         \"ingestionResult\": \"INGESTED\",\n",
       "         \"validationTime\": \"2024-03-05T09:03:41.000386Z\"\n",
       "       },\n",
       "       \"success\": true,\n",
       "       \"expectation_config\": {\n",
       "         \"expectation_type\": \"expect_column_min_to_be_between\",\n",
       "         \"meta\": {\n",
       "           \"expectationId\": 6185\n",
       "         },\n",
       "         \"kwargs\": {\n",
       "           \"column\": \"precipitation_sum\",\n",
       "           \"min_value\": -0.1,\n",
       "           \"max_value\": 1000.0,\n",
       "           \"strict_min\": true\n",
       "         }\n",
       "       }\n",
       "     }\n",
       "   ],\n",
       "   \"success\": true,\n",
       "   \"statistics\": {\n",
       "     \"evaluated_expectations\": 2,\n",
       "     \"successful_expectations\": 2,\n",
       "     \"unsuccessful_expectations\": 0,\n",
       "     \"success_percent\": 100.0\n",
       "   }\n",
       " })"
      ]
     },
     "execution_count": 11,
     "metadata": {},
     "output_type": "execute_result"
    }
   ],
   "source": [
    "# Insert new data\n",
    "weather_fg.insert(daily_df)"
   ]
  },
  {
   "cell_type": "markdown",
   "id": "74b6d11a",
   "metadata": {},
   "source": [
    "## <span style=\"color:#ff5f27;\">⏭️ **Next:** Part 03: Training Pipeline\n",
    " </span> \n",
    "\n",
    "In the following notebook you will read from a feature group and create training dataset within the feature store\n"
   ]
  }
 ],
 "metadata": {
  "kernelspec": {
   "display_name": "Python 3 (ipykernel)",
   "language": "python",
   "name": "python3"
  },
  "language_info": {
   "codemirror_mode": {
    "name": "ipython",
    "version": 3
   },
   "file_extension": ".py",
   "mimetype": "text/x-python",
   "name": "python",
   "nbconvert_exporter": "python",
   "pygments_lexer": "ipython3",
   "version": "3.10.0"
  },
  "vscode": {
   "interpreter": {
    "hash": "190ea7959a836f4799545ea0f3718ade3abee093b15861ffdc25233d6ab7050e"
   }
  }
 },
 "nbformat": 4,
 "nbformat_minor": 5
}
